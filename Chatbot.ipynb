{
  "cells": [
    {
      "cell_type": "markdown",
      "metadata": {
        "id": "view-in-github",
        "colab_type": "text"
      },
      "source": [
        "<a href=\"https://colab.research.google.com/github/Coulibdavid/chatbot/blob/main/Chatbot.ipynb\" target=\"_parent\"><img src=\"https://colab.research.google.com/assets/colab-badge.svg\" alt=\"Open In Colab\"/></a>"
      ]
    },
    {
      "cell_type": "code",
      "execution_count": 2,
      "metadata": {
        "colab": {
          "base_uri": "https://localhost:8080/"
        },
        "id": "ixK1vSVZ98gB",
        "outputId": "c733dba4-a06d-4158-8e35-9d3bdd906702"
      },
      "outputs": [
        {
          "output_type": "stream",
          "name": "stdout",
          "text": [
            "Requirement already satisfied: nltk in /usr/local/lib/python3.7/dist-packages (3.2.5)\n",
            "Requirement already satisfied: six in /usr/local/lib/python3.7/dist-packages (from nltk) (1.15.0)\n"
          ]
        }
      ],
      "source": [
        "#Installer la bibliotheque nltk\n",
        "#Natural Language Toolkit est une bibliothèque logicielle en Python permettant un traitement automatique des langues\n",
        "!pip install nltk"
      ]
    },
    {
      "cell_type": "code",
      "execution_count": null,
      "metadata": {
        "id": "l33Sy3rr-AZh"
      },
      "outputs": [],
      "source": [
        ""
      ]
    },
    {
      "cell_type": "code",
      "execution_count": 3,
      "metadata": {
        "id": "Jdgcauvp-C6i"
      },
      "outputs": [],
      "source": [
        "#Importer les bibliotheques\n",
        "from nltk.chat.util import Chat, reflections"
      ]
    },
    {
      "cell_type": "code",
      "execution_count": 8,
      "metadata": {
        "id": "yZrElOGz-Jtv"
      },
      "outputs": [],
      "source": [
        "#Definir le Dialogue\n",
        "pairs=[[\"Mon nom est (.*)\", [\"Hello %1\"]],\n",
        "      [\"(Bonjour|Salut|Coucou )\",[\"Salut, j'espere que tu vas bien.\", \"Hello\", \"En quoi je peux aider\"]],\n",
        "      [\"Je veux une (.*) taille (.*)\",[\"Ok je vais preparer une %1 taille %2\"]],\n",
        "      [\"(.*)(ville|adresse)\", [\"On est a Paris en France\"]],\n",
        "      [\"(.*)aider(.*)\", [\" Je peux vous aider\"]],\n",
        "      [\"(.*)merci(.*)\", [\"Bienvenue... A bientot\"]],\n",
        "      [\"je vais bien et toi\", [\"je vais bien egalement. merci\"]]\n",
        "      ]"
      ]
    },
    {
      "cell_type": "code",
      "execution_count": null,
      "metadata": {
        "colab": {
          "base_uri": "https://localhost:8080/"
        },
        "id": "pHsNmDYT-OrN",
        "outputId": "2955c387-f39d-405e-81e2-c0c5b4b37fcf"
      },
      "outputs": [
        {
          "output_type": "stream",
          "name": "stdout",
          "text": [
            ">salut\n",
            "Hello\n",
            ">bonjour\n",
            "Hello\n",
            ">Bonjour\n",
            "En quoi je peux aider\n",
            ">SALUT\n",
            "Salut, j'espere que tu vas bien.\n",
            ">je vais bien et toi\n",
            "je vais bien egalement. merci\n"
          ]
        }
      ],
      "source": [
        "#Construction du dialogue\n",
        "chat=Chat(pairs, reflections)\n",
        "chat.converse()"
      ]
    },
    {
      "cell_type": "code",
      "execution_count": null,
      "metadata": {
        "id": "Wvwnlk2u-Vcv"
      },
      "outputs": [],
      "source": [
        ""
      ]
    }
  ],
  "metadata": {
    "colab": {
      "name": "Chatbot.ipynb",
      "provenance": [],
      "authorship_tag": "ABX9TyNUhbXCiGJUG+5uiTIs0n/6",
      "include_colab_link": true
    },
    "kernelspec": {
      "display_name": "Python 3",
      "name": "python3"
    },
    "language_info": {
      "name": "python"
    }
  },
  "nbformat": 4,
  "nbformat_minor": 0
}